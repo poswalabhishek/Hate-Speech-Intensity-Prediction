{
 "cells": [
  {
   "cell_type": "code",
   "execution_count": 1,
   "id": "83decfd4",
   "metadata": {},
   "outputs": [],
   "source": [
    "import json\n",
    "import pandas as pd\n",
    "from sklearn.metrics import mean_squared_error\n",
    "from scipy.stats import pearsonr\n",
    "from sklearn.metrics.pairwise import cosine_similarity\n",
    "\n",
    "from helper import paths"
   ]
  },
  {
   "cell_type": "code",
   "execution_count": 3,
   "id": "60731c58",
   "metadata": {},
   "outputs": [],
   "source": [
    "# Load the dataset from the JSON file\n",
    "\n",
    "json_datasets_path = paths[\"json_datasets_path\"]\n",
    "\n",
    "with open(json_datasets_path + 'gpt_35_turbo_5epochs_intensity.json', 'r') as file:\n",
    "    data = json.load(file)\n"
   ]
  },
  {
   "cell_type": "code",
   "execution_count": 6,
   "id": "0405be5d",
   "metadata": {},
   "outputs": [],
   "source": [
    "# Convert the dataset into a DataFrame\n",
    "df = pd.DataFrame(data)\n",
    "\n",
    "# Replace gpt_intensity values of 11.0 with 6.0 or delete them completely\n",
    "# df = df[df['gpt_intensity'] != 11.0]\n",
    "#df['gpt_intensity'] = df['gpt_intensity'].replace(11.0, 6.0)\n",
    "\n",
    "actual_intensity = df['intensity']\n",
    "predicted_intensity = df['gpt_intensity']\n",
    "\n",
    "rmse = mean_squared_error(actual_intensity, predicted_intensity, squared=False)\n",
    "pearson_corr, _ = pearsonr(actual_intensity, predicted_intensity)\n",
    "cosine_sim = cosine_similarity([actual_intensity], [predicted_intensity])[0][0]"
   ]
  },
  {
   "cell_type": "code",
   "execution_count": 7,
   "id": "9a57c22c",
   "metadata": {},
   "outputs": [
    {
     "name": "stdout",
     "output_type": "stream",
     "text": [
      "RMSE: 0.8122197487413112\n",
      "Pearson Correlation: 0.9283518576320193\n",
      "Cosine Similarity: 0.991030151145925\n"
     ]
    }
   ],
   "source": [
    "# Print the results\n",
    "print(f'RMSE: {rmse}')\n",
    "print(f'Pearson Correlation: {pearson_corr}')\n",
    "print(f'Cosine Similarity: {cosine_sim}')"
   ]
  },
  {
   "cell_type": "code",
   "execution_count": null,
   "id": "b0125ac9",
   "metadata": {},
   "outputs": [],
   "source": []
  },
  {
   "cell_type": "code",
   "execution_count": null,
   "id": "d875d3cb-9b89-440c-b7dd-bd0114d92768",
   "metadata": {},
   "outputs": [],
   "source": []
  }
 ],
 "metadata": {
  "kernelspec": {
   "display_name": "Python 3 (ipykernel)",
   "language": "python",
   "name": "python3"
  },
  "language_info": {
   "codemirror_mode": {
    "name": "ipython",
    "version": 3
   },
   "file_extension": ".py",
   "mimetype": "text/x-python",
   "name": "python",
   "nbconvert_exporter": "python",
   "pygments_lexer": "ipython3",
   "version": "3.11.7"
  }
 },
 "nbformat": 4,
 "nbformat_minor": 5
}
