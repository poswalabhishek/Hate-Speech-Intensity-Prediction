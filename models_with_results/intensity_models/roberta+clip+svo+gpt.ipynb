{
 "cells": [
  {
   "cell_type": "code",
   "execution_count": 2,
   "id": "461eb253-3745-4fda-9048-d4ae3e97dabe",
   "metadata": {},
   "outputs": [
    {
     "name": "stdout",
     "output_type": "stream",
     "text": [
      "Simple Averaging - RMSE: 1.1880936666268944, Pearson Correlation: 0.8257735650476966, Cosine Similarity: 0.9804678875334012\n",
      "Weighted Averaging - RMSE: 1.1647936594511867, Pearson Correlation: 0.8317521333545543, Cosine Similarity: 0.9810829804157318\n",
      "Stacking - RMSE: 1.4007660110094655, Pearson Correlation: 0.7432816012684108, Cosine Similarity: 0.9723462594527532\n"
     ]
    }
   ],
   "source": [
    "import numpy as np\n",
    "import pandas as pd\n",
    "from sklearn.metrics import mean_squared_error\n",
    "from scipy.stats import pearsonr\n",
    "from sklearn.metrics.pairwise import cosine_similarity\n",
    "from sklearn.linear_model import LinearRegression\n",
    "\n",
    "# Load the merged dataframe\n",
    "train_df = pd.read_csv('../dataset/intensity_result/train/gpt_35_clip_train.csv')\n",
    "test_df = pd.read_csv('../dataset/intensity_result/test/gpt_35_4o_clip_test.csv')\n",
    "\n",
    "# Extract the necessary columns\n",
    "train_ml_predictions = train_df['roberta_clip_svo_intensity'].values\n",
    "train_gpt_predictions = train_df['gpt_35_intensity'].values\n",
    "train_true_values = train_df['intensity'].values\n",
    "\n",
    "test_ml_predictions = test_df['roberta_clip_svo_intensity'].values\n",
    "test_gpt_predictions = test_df['gpt_35_intensity'].values\n",
    "test_true_values = test_df['intensity'].values\n",
    "\n",
    "# Simple Averaging\n",
    "combined_predictions_avg = (test_ml_predictions + test_gpt_predictions) / 2\n",
    "\n",
    "# Weighted Averaging\n",
    "weight_ml = 0.6\n",
    "weight_gpt = 0.4\n",
    "combined_predictions_weighted = weight_ml * test_ml_predictions + weight_gpt * test_gpt_predictions\n",
    "\n",
    "# Evaluate the combined predictions\n",
    "def evaluate(predictions, true_values):\n",
    "    rmse = np.sqrt(mean_squared_error(true_values, predictions))\n",
    "    pearson_corr, _ = pearsonr(true_values, predictions)\n",
    "    cosine_sim = cosine_similarity([true_values], [predictions])[0, 0]\n",
    "    return rmse, pearson_corr, cosine_sim\n",
    "\n",
    "# Evaluate simple averaging\n",
    "rmse_avg, pearson_avg, cosine_avg = evaluate(combined_predictions_avg, test_true_values)\n",
    "print(f\"Simple Averaging - RMSE: {rmse_avg}, Pearson Correlation: {pearson_avg}, Cosine Similarity: {cosine_avg}\")\n",
    "\n",
    "# Evaluate weighted averaging\n",
    "rmse_weighted, pearson_weighted, cosine_weighted = evaluate(combined_predictions_weighted, test_true_values)\n",
    "print(f\"Weighted Averaging - RMSE: {rmse_weighted}, Pearson Correlation: {pearson_weighted}, Cosine Similarity: {cosine_weighted}\")\n",
    "\n",
    "# Stacking\n",
    "train_stacked_features = np.vstack((train_ml_predictions, train_gpt_predictions)).T\n",
    "test_stacked_features = np.vstack((test_ml_predictions, test_gpt_predictions)).T\n",
    "\n",
    "stacked_model = LinearRegression().fit(train_stacked_features, train_true_values)\n",
    "stacked_predictions = stacked_model.predict(test_stacked_features)\n",
    "\n",
    "# Evaluate stacking\n",
    "rmse_stacked, pearson_stacked, cosine_stacked = evaluate(stacked_predictions, test_true_values)\n",
    "print(f\"Stacking - RMSE: {rmse_stacked}, Pearson Correlation: {pearson_stacked}, Cosine Similarity: {cosine_stacked}\")\n"
   ]
  },
  {
   "cell_type": "code",
   "execution_count": null,
   "id": "ca2da50f-e28f-47a3-8757-a5a55b2f3c33",
   "metadata": {},
   "outputs": [],
   "source": []
  },
  {
   "cell_type": "code",
   "execution_count": 6,
   "id": "469afea8-6b3e-4bea-a6c9-f86a316afe4b",
   "metadata": {},
   "outputs": [
    {
     "name": "stdout",
     "output_type": "stream",
     "text": [
      "Simple Averaging - RMSE: 1.7301432460515898, Pearson Correlation: 0.6004497165120009, Cosine Similarity: 0.958125210782388\n",
      "Weighted Averaging - RMSE: 1.3325807955110172, Pearson Correlation: 0.7767175136689977, Cosine Similarity: 0.9755813225410042\n",
      "Stacking - RMSE: 2.072475292310843, Pearson Correlation: 0.17624184922624248, Cosine Similarity: 0.9389865888365081\n"
     ]
    }
   ],
   "source": [
    "import numpy as np\n",
    "import pandas as pd\n",
    "from sklearn.metrics import mean_squared_error\n",
    "from scipy.stats import pearsonr\n",
    "from sklearn.metrics.pairwise import cosine_similarity\n",
    "from sklearn.linear_model import LinearRegression\n",
    "\n",
    "# Load the merged dataframe\n",
    "train_df = pd.read_csv('../dataset/intensity_result/train/gpt_35_clip_train.csv')\n",
    "test_df = pd.read_csv('../dataset/intensity_result/test/gpt_35_4o_clip_test.csv')\n",
    "\n",
    "# Extract the necessary columns\n",
    "train_ml_predictions = train_df['roberta_clip_svo_intensity'].values\n",
    "train_gpt_predictions = train_df['gpt_4o_intensity'].values\n",
    "train_true_values = train_df['intensity'].values\n",
    "\n",
    "test_ml_predictions = test_df['roberta_clip_svo_intensity'].values\n",
    "test_gpt_predictions = test_df['gpt_4o_intensity'].values\n",
    "test_true_values = test_df['intensity'].values\n",
    "\n",
    "# Simple Averaging\n",
    "combined_predictions_avg = (test_ml_predictions + test_gpt_predictions) / 2\n",
    "\n",
    "# Weighted Averaging\n",
    "weight_ml = 0.75\n",
    "weight_gpt = 0.25\n",
    "combined_predictions_weighted = weight_ml * test_ml_predictions + weight_gpt * test_gpt_predictions\n",
    "\n",
    "# Evaluate the combined predictions\n",
    "def evaluate(predictions, true_values):\n",
    "    rmse = np.sqrt(mean_squared_error(true_values, predictions))\n",
    "    pearson_corr, _ = pearsonr(true_values, predictions)\n",
    "    cosine_sim = cosine_similarity([true_values], [predictions])[0, 0]\n",
    "    return rmse, pearson_corr, cosine_sim\n",
    "\n",
    "# Evaluate simple averaging\n",
    "rmse_avg, pearson_avg, cosine_avg = evaluate(combined_predictions_avg, test_true_values)\n",
    "print(f\"Simple Averaging - RMSE: {rmse_avg}, Pearson Correlation: {pearson_avg}, Cosine Similarity: {cosine_avg}\")\n",
    "\n",
    "# Evaluate weighted averaging\n",
    "rmse_weighted, pearson_weighted, cosine_weighted = evaluate(combined_predictions_weighted, test_true_values)\n",
    "print(f\"Weighted Averaging - RMSE: {rmse_weighted}, Pearson Correlation: {pearson_weighted}, Cosine Similarity: {cosine_weighted}\")\n",
    "\n",
    "# Stacking\n",
    "train_stacked_features = np.vstack((train_ml_predictions, train_gpt_predictions)).T\n",
    "test_stacked_features = np.vstack((test_ml_predictions, test_gpt_predictions)).T\n",
    "\n",
    "stacked_model = LinearRegression().fit(train_stacked_features, train_true_values)\n",
    "stacked_predictions = stacked_model.predict(test_stacked_features)\n",
    "\n",
    "# Evaluate stacking\n",
    "rmse_stacked, pearson_stacked, cosine_stacked = evaluate(stacked_predictions, test_true_values)\n",
    "print(f\"Stacking - RMSE: {rmse_stacked}, Pearson Correlation: {pearson_stacked}, Cosine Similarity: {cosine_stacked}\")\n"
   ]
  },
  {
   "cell_type": "code",
   "execution_count": null,
   "id": "c2b2c3bd-1e08-4bee-8a09-d80c47aabe56",
   "metadata": {},
   "outputs": [],
   "source": []
  },
  {
   "cell_type": "code",
   "execution_count": null,
   "id": "c06325aa-2cab-46df-8cf5-937032b7d6b4",
   "metadata": {},
   "outputs": [],
   "source": []
  },
  {
   "cell_type": "code",
   "execution_count": null,
   "id": "ba4d53dc-c29e-436c-8388-e048223ff253",
   "metadata": {},
   "outputs": [],
   "source": []
  },
  {
   "cell_type": "code",
   "execution_count": 5,
   "id": "a9794d58-287d-4eea-bd06-52450f68abe4",
   "metadata": {},
   "outputs": [
    {
     "name": "stdout",
     "output_type": "stream",
     "text": [
      "38/38 [==============================] - 0s 1ms/step\n",
      "Stacking with Dropout - RMSE: 1.4325723129431034, Pearson Correlation: 0.7380077071672558, Cosine Similarity: 0.9713283490500861\n"
     ]
    }
   ],
   "source": [
    "import numpy as np\n",
    "import pandas as pd\n",
    "from sklearn.metrics import mean_squared_error\n",
    "from scipy.stats import pearsonr\n",
    "from sklearn.metrics.pairwise import cosine_similarity\n",
    "from tensorflow.keras.models import Sequential\n",
    "from tensorflow.keras.layers import Dense, Dropout\n",
    "\n",
    "# Load the merged dataframe\n",
    "train_df = pd.read_csv('../dataset/intensity_result/train/gpt_35_clip_train.csv')\n",
    "test_df = pd.read_csv('../dataset/intensity_result/test/gpt_35_4o_clip_test.csv')\n",
    "\n",
    "# Extract the necessary columns\n",
    "train_ml_predictions = train_df['clip_intensity'].values\n",
    "train_gpt_predictions = train_df['gpt_35_intensity'].values\n",
    "train_true_values = train_df['intensity'].values\n",
    "\n",
    "test_ml_predictions = test_df['clip_intensity'].values\n",
    "test_gpt_predictions = test_df['gpt_35_intensity'].values\n",
    "test_true_values = test_df['intensity'].values\n",
    "\n",
    "# Stacking with Dropout\n",
    "train_stacked_features = np.vstack((train_ml_predictions, train_gpt_predictions)).T\n",
    "test_stacked_features = np.vstack((test_ml_predictions, test_gpt_predictions)).T\n",
    "\n",
    "# Define the model with dropout layers\n",
    "def create_model():\n",
    "    model = Sequential()\n",
    "    model.add(Dense(64, activation='relu', input_dim=train_stacked_features.shape[1]))\n",
    "    model.add(Dropout(0.6))  # 20% dropout\n",
    "    model.add(Dense(32, activation='relu'))\n",
    "    model.add(Dropout(0.6))  # 20% dropout\n",
    "    model.add(Dense(1))  # Output layer\n",
    "    model.compile(optimizer='adam', loss='mean_squared_error')\n",
    "    return model\n",
    "\n",
    "# Create and train the model\n",
    "stacked_model = create_model()\n",
    "stacked_model.fit(train_stacked_features, train_true_values, epochs=100, batch_size=32, verbose=0)\n",
    "\n",
    "# Make predictions\n",
    "stacked_predictions = stacked_model.predict(test_stacked_features).flatten()\n",
    "\n",
    "# Evaluate the combined predictions\n",
    "def evaluate(predictions, true_values):\n",
    "    rmse = np.sqrt(mean_squared_error(true_values, predictions))\n",
    "    pearson_corr, _ = pearsonr(true_values, predictions)\n",
    "    cosine_sim = cosine_similarity([true_values], [predictions])[0, 0]\n",
    "    return rmse, pearson_corr, cosine_sim\n",
    "\n",
    "# Evaluate stacking\n",
    "rmse_stacked, pearson_stacked, cosine_stacked = evaluate(stacked_predictions, test_true_values)\n",
    "print(f\"Stacking with Dropout - RMSE: {rmse_stacked}, Pearson Correlation: {pearson_stacked}, Cosine Similarity: {cosine_stacked}\")\n"
   ]
  },
  {
   "cell_type": "code",
   "execution_count": 4,
   "id": "9d65931c-020e-41dd-b6d7-96ecdd42cf31",
   "metadata": {},
   "outputs": [
    {
     "name": "stdout",
     "output_type": "stream",
     "text": [
      "38/38 [==============================] - 0s 1ms/step\n"
     ]
    }
   ],
   "source": [
    "import numpy as np\n",
    "import pandas as pd\n",
    "from sklearn.metrics import mean_squared_error\n",
    "from scipy.stats import pearsonr\n",
    "from sklearn.metrics.pairwise import cosine_similarity\n",
    "from tensorflow.keras.models import Sequential\n",
    "from tensorflow.keras.layers import Dense, Dropout, Input\n",
    "from tensorflow.keras.models import Model\n",
    "\n",
    "# Load the merged dataframe\n",
    "train_df = pd.read_csv('../dataset/intensity_result/train/gpt_35_clip_train.csv')\n",
    "test_df = pd.read_csv('../dataset/intensity_result/test/gpt_35_4o_clip_test.csv')\n",
    "\n",
    "# Extract the necessary columns\n",
    "train_ml_predictions = train_df['clip_intensity'].values\n",
    "train_gpt_predictions = train_df['gpt_35_intensity'].values\n",
    "train_true_values = train_df['intensity'].values\n",
    "\n",
    "test_ml_predictions = test_df['clip_intensity'].values\n",
    "test_gpt_predictions = test_df['gpt_35_intensity'].values\n",
    "test_true_values = test_df['intensity'].values\n",
    "\n",
    "# Stacking with Dropout\n",
    "train_stacked_features = np.vstack((train_ml_predictions, train_gpt_predictions)).T\n",
    "test_stacked_features = np.vstack((test_ml_predictions, test_gpt_predictions)).T\n",
    "\n",
    "# Define the model with dropout layers\n",
    "def create_pointer_generation_model():\n",
    "    inputs = Input(shape=(train_stacked_features.shape[1],))\n",
    "    x = Dense(64, activation='relu')(inputs)\n",
    "    x = Dropout(0.4)(x)  # Dropout for regularization\n",
    "    x = Dense(32, activation='relu')(x)\n",
    "    x = Dropout(0.4)(x)  # Another dropout layer\n",
    "    output = Dense(1)(x)  # Output layer\n",
    "    model = Model(inputs=inputs, outputs=output)\n",
    "    model.compile(optimizer='adam', loss='mean_squared_error')\n",
    "    return model\n",
    "\n",
    "# Create and train the model\n",
    "pointer_model = create_pointer_generation_model()\n",
    "pointer_model.fit(train_stacked_features, train_true_values, epochs=100, batch_size=32, verbose=0)\n",
    "\n",
    "# Make predictions\n",
    "stacked_predictions = pointer_model.predict(test_stacked_features).flatten()\n"
   ]
  },
  {
   "cell_type": "code",
   "execution_count": 5,
   "id": "737ed6fc-f0b5-4230-a211-dec004d52905",
   "metadata": {},
   "outputs": [],
   "source": [
    "# Evaluate the combined predictions\n",
    "def evaluate(predictions, true_values):\n",
    "    rmse = np.sqrt(mean_squared_error(true_values, predictions))\n",
    "    pearson_corr, _ = pearsonr(true_values, predictions)\n",
    "    cosine_sim = cosine_similarity([true_values], [predictions])[0, 0]\n",
    "    return rmse, pearson_corr, cosine_sim"
   ]
  },
  {
   "cell_type": "code",
   "execution_count": 6,
   "id": "366ebedc-9e22-4c18-a67f-a6a3a4d0f044",
   "metadata": {},
   "outputs": [
    {
     "name": "stdout",
     "output_type": "stream",
     "text": [
      "Pointer Generation with Dropout - RMSE: 1.4014293683654484, Pearson Correlation: 0.7420871971590375, Cosine Similarity: 0.9722956621511978\n"
     ]
    }
   ],
   "source": [
    "\n",
    "# Evaluate stacking\n",
    "rmse_stacked, pearson_stacked, cosine_stacked = evaluate(stacked_predictions, test_true_values)\n",
    "print(f\"Pointer Generation with Dropout - RMSE: {rmse_stacked}, Pearson Correlation: {pearson_stacked}, Cosine Similarity: {cosine_stacked}\")"
   ]
  },
  {
   "cell_type": "code",
   "execution_count": null,
   "id": "cd99fea9-879e-4688-8308-8b6bdd7566a2",
   "metadata": {},
   "outputs": [],
   "source": []
  }
 ],
 "metadata": {
  "kernelspec": {
   "display_name": "research",
   "language": "python",
   "name": "research"
  },
  "language_info": {
   "codemirror_mode": {
    "name": "ipython",
    "version": 3
   },
   "file_extension": ".py",
   "mimetype": "text/x-python",
   "name": "python",
   "nbconvert_exporter": "python",
   "pygments_lexer": "ipython3",
   "version": "3.9.19"
  }
 },
 "nbformat": 4,
 "nbformat_minor": 5
}
