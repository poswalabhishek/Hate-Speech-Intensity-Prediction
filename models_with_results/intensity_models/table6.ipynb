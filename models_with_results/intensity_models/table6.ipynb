{
 "cells": [
  {
   "cell_type": "code",
   "execution_count": 7,
   "id": "3bd70533-8576-47a7-8a28-2b13c8a10ba4",
   "metadata": {},
   "outputs": [
    {
     "name": "stdout",
     "output_type": "stream",
     "text": [
      "Average Change in Confidence (Delta_c): 0.01840753252858391\n"
     ]
    }
   ],
   "source": [
    "import pandas as pd\n",
    "import numpy as np\n",
    "\n",
    "df = pd.read_csv('../dataset/test.csv')\n",
    "\n",
    "def softmax(x):\n",
    "    e_x = np.exp(x)\n",
    "    return e_x / (e_x + np.exp(1 - x))\n",
    "\n",
    "# Apply softmax to both original and GPT-3.5 intensities\n",
    "df['confidence_original'] = df['Original_Intensity'].apply(softmax)\n",
    "df['confidence_gpt_35'] = df['Normalized_Intensity'].apply(softmax)\n",
    "\n",
    "# Threshold for considering a sentence as hate (e.g., confidence score >= 0.5)\n",
    "threshold = 0.5\n",
    "filtered_df = df[(df['confidence_original'] >= threshold) & (df['confidence_gpt_35'] >= threshold)]\n",
    "\n",
    "# Change in confidence scores\n",
    "filtered_df['delta_c'] = filtered_df['confidence_original'] - filtered_df['confidence_gpt_35']\n",
    "average_delta_c = filtered_df['delta_c'].mean()\n",
    "\n",
    "print(f'Average Change in Confidence (Delta_c): {average_delta_c}')\n"
   ]
  },
  {
   "cell_type": "code",
   "execution_count": null,
   "id": "a52522f2-1ce6-4ed0-a4f2-00f55c0b323a",
   "metadata": {},
   "outputs": [],
   "source": []
  },
  {
   "cell_type": "code",
   "execution_count": null,
   "id": "bcfaaf63-e2c6-41ad-bef1-c7c34b45c097",
   "metadata": {},
   "outputs": [],
   "source": []
  },
  {
   "cell_type": "code",
   "execution_count": null,
   "id": "83cca1e3-3a97-4341-8b7c-ffe94458cab2",
   "metadata": {},
   "outputs": [],
   "source": []
  },
  {
   "cell_type": "code",
   "execution_count": null,
   "id": "d9d7751d-047b-4ca4-b682-56034707d47e",
   "metadata": {},
   "outputs": [],
   "source": []
  }
 ],
 "metadata": {
  "kernelspec": {
   "display_name": "Python 3 (ipykernel)",
   "language": "python",
   "name": "python3"
  },
  "language_info": {
   "codemirror_mode": {
    "name": "ipython",
    "version": 3
   },
   "file_extension": ".py",
   "mimetype": "text/x-python",
   "name": "python",
   "nbconvert_exporter": "python",
   "pygments_lexer": "ipython3",
   "version": "3.11.7"
  }
 },
 "nbformat": 4,
 "nbformat_minor": 5
}
